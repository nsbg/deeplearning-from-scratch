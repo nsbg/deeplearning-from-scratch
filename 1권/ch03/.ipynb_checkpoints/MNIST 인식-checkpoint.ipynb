{
 "cells": [
  {
   "cell_type": "code",
   "execution_count": 1,
   "id": "67fc3f88",
   "metadata": {},
   "outputs": [],
   "source": [
    "import os\n",
    "import sys\n",
    "\n",
    "sys.path.append(os.pardir)"
   ]
  },
  {
   "cell_type": "code",
   "execution_count": 2,
   "id": "218e6644",
   "metadata": {},
   "outputs": [],
   "source": [
    "from PIL import Image\n",
    "from IPython.display import display\n",
    "from dataset.mnist import load_mnist\n",
    "\n",
    "import pickle\n",
    "import numpy as np"
   ]
  },
  {
   "cell_type": "code",
   "execution_count": 3,
   "id": "a729db4d",
   "metadata": {},
   "outputs": [],
   "source": [
    "def sigmoid(x):\n",
    "    return 1/(1+np.exp(-x))"
   ]
  },
  {
   "cell_type": "code",
   "execution_count": 4,
   "id": "40620771",
   "metadata": {},
   "outputs": [],
   "source": [
    "def softmax(x):\n",
    "    c = np.max(x)\n",
    "    \n",
    "    exp_x = np.exp(x-c) # 오버플로우 처리\n",
    "    \n",
    "    sum_exp_x = np.sum(exp_x)\n",
    "    \n",
    "    y = exp_x / sum_exp_x\n",
    "    \n",
    "    return y"
   ]
  },
  {
   "cell_type": "code",
   "execution_count": 5,
   "id": "3e20dcf9",
   "metadata": {},
   "outputs": [],
   "source": [
    "def img_show(img):\n",
    "    pil_img = Image.fromarray(np.uint8(img)) # NumPy 배열을 PIL 데이터 객체로 변환\n",
    "    display(pil_img)"
   ]
  },
  {
   "cell_type": "code",
   "execution_count": 6,
   "id": "e79b9dd3",
   "metadata": {},
   "outputs": [],
   "source": [
    "(X_train, y_train), (X_test, y_test) = load_mnist(flatten=True, normalize=False)"
   ]
  },
  {
   "cell_type": "code",
   "execution_count": 7,
   "id": "185318a1",
   "metadata": {},
   "outputs": [
    {
     "name": "stdout",
     "output_type": "stream",
     "text": [
      "1\n"
     ]
    }
   ],
   "source": [
    "img = X_train[6]\n",
    "label = y_train[6]\n",
    "\n",
    "print(label)"
   ]
  },
  {
   "cell_type": "code",
   "execution_count": 8,
   "id": "f61f680f",
   "metadata": {},
   "outputs": [
    {
     "data": {
      "image/png": "[encoded data removed]",
      "text/plain": [
       "<PIL.Image.Image image mode=L size=28x28 at 0x23BB16CAA90>"
      ]
     },
     "metadata": {},
     "output_type": "display_data"
    }
   ],
   "source": [
    "img_show(img.reshape(28, 28))"
   ]
  },
  {
   "cell_type": "code",
   "execution_count": 9,
   "id": "d1cc801a",
   "metadata": {},
   "outputs": [],
   "source": [
    "def get_data():\n",
    "    (X_train, y_train), (X_test, y_test) = load_mnist(flatten=True, normalize=False, one_hot_label=False)\n",
    "    \n",
    "    return X_test, y_test\n",
    "\n",
    "def init_network():\n",
    "    with open('sample_weight.pkl', 'rb') as f:\n",
    "        network = pickle.load(f)\n",
    "    \n",
    "    return network\n",
    "\n",
    "def predict(network, x):\n",
    "    W1, W2, W3 = network['W1'], network['W2'], network['W3']\n",
    "    b1, b2, b3 = network['b1'], network['b2'], network['b3']\n",
    "    \n",
    "    a1 = np.dot(x, W1)+b1\n",
    "    z1 = sigmoid(a1)\n",
    "    \n",
    "    a2 = np.dot(z1, W2)+b2\n",
    "    z2 = sigmoid(a2)\n",
    "    \n",
    "    a3 = np.dot(z2, W3)+b3\n",
    "    \n",
    "    y = softmax(a3)\n",
    "    \n",
    "    return y"
   ]
  },
  {
   "cell_type": "code",
   "execution_count": 10,
   "id": "875d81df",
   "metadata": {},
   "outputs": [
    {
     "name": "stderr",
     "output_type": "stream",
     "text": [
      "C:\\Users\\epdls\\AppData\\Local\\Temp\\ipykernel_12324\\4033946986.py:2: RuntimeWarning: overflow encountered in exp\n",
      "  return 1/(1+np.exp(-x))\n"
     ]
    },
    {
     "name": "stdout",
     "output_type": "stream",
     "text": [
      "Accuracy: 0.9207\n"
     ]
    }
   ],
   "source": [
    "X, y = get_data()\n",
    "\n",
    "network = init_network()\n",
    "\n",
    "accuracy_cnt = 0\n",
    "\n",
    "for i in range(len(X)):\n",
    "    pred = predict(network, X[i])\n",
    "    p = np.argmax(pred)\n",
    "    \n",
    "    if p == y[i]:\n",
    "        accuracy_cnt += 1\n",
    "    \n",
    "print(f'Accuracy: {accuracy_cnt/len(X)}')"
   ]
  },
  {
   "cell_type": "code",
   "execution_count": 11,
   "id": "96e1c50f",
   "metadata": {},
   "outputs": [
    {
     "name": "stdout",
     "output_type": "stream",
     "text": [
      "b2 : (100,)\n",
      "W1 : (784, 50)\n",
      "b1 : (50,)\n",
      "W2 : (50, 100)\n",
      "W3 : (100, 10)\n",
      "b3 : (10,)\n"
     ]
    }
   ],
   "source": [
    "for key, item in network.items():\n",
    "    print(f'{key} : {item.shape}')"
   ]
  },
  {
   "cell_type": "markdown",
   "id": "961dc1e9",
   "metadata": {},
   "source": [
    "## Batch 처리"
   ]
  },
  {
   "cell_type": "code",
   "execution_count": 12,
   "id": "e9db724b",
   "metadata": {},
   "outputs": [
    {
     "name": "stdout",
     "output_type": "stream",
     "text": [
      "Accuracy: 0.9207\n"
     ]
    },
    {
     "name": "stderr",
     "output_type": "stream",
     "text": [
      "C:\\Users\\epdls\\AppData\\Local\\Temp\\ipykernel_12324\\4033946986.py:2: RuntimeWarning: overflow encountered in exp\n",
      "  return 1/(1+np.exp(-x))\n"
     ]
    }
   ],
   "source": [
    "X, y = get_data()\n",
    "\n",
    "network = init_network()\n",
    "\n",
    "batch_size, accuracy_cnt = 100, 0\n",
    "\n",
    "for i in range(0, len(X), batch_size):\n",
    "    X_batch = X[i:i+batch_size]\n",
    "    y_batch = predict(network, X_batch)\n",
    "    \n",
    "    p = np.argmax(y_batch, axis=1)\n",
    "    \n",
    "    accuracy_cnt += np.sum(p==y[i:i+batch_size]) # np.sum(~): 비교 후 True 개수 카운트\n",
    "    \n",
    "print(f'Accuracy: {accuracy_cnt/len(X)}')"
   ]
  }
 ],
 "metadata": {
  "kernelspec": {
   "display_name": "Python 3 (ipykernel)",
   "language": "python",
   "name": "python3"
  },
  "language_info": {
   "codemirror_mode": {
    "name": "ipython",
    "version": 3
   },
   "file_extension": ".py",
   "mimetype": "text/x-python",
   "name": "python",
   "nbconvert_exporter": "python",
   "pygments_lexer": "ipython3",
   "version": "3.9.12"
  }
 },
 "nbformat": 4,
 "nbformat_minor": 5
}
